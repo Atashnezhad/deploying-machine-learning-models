{
 "cells": [
  {
   "cell_type": "markdown",
   "metadata": {},
   "source": [
    "# Feature Engineering with in house software\n",
    "\n",
    "In this notebook, we will set up all the feature engineering steps within a Scikit-learn pipeline utilizing the open source transformers plus those we developed in house."
   ]
  },
  {
   "cell_type": "markdown",
   "metadata": {},
   "source": [
    "# Reproducibility: Setting the seed\n",
    "\n",
    "With the aim to ensure reproducibility between runs of the same notebook, but also between the research and production environment, for each step that includes some element of randomness, it is extremely important that we **set the seed**."
   ]
  },
  {
   "cell_type": "code",
   "execution_count": 1,
   "metadata": {
    "ExecuteTime": {
     "end_time": "2023-12-06T17:19:00.250100900Z",
     "start_time": "2023-12-06T17:18:55.265394200Z"
    }
   },
   "outputs": [],
   "source": [
    "# data manipulation and plotting\n",
    "import pandas as pd\n",
    "import numpy as np\n",
    "import matplotlib.pyplot as plt\n",
    "\n",
    "# for saving the pipeline\n",
    "import joblib\n",
    "\n",
    "# from Scikit-learn\n",
    "from sklearn.feature_selection import SelectFromModel\n",
    "from sklearn.linear_model import Lasso\n",
    "from sklearn.metrics import mean_squared_error, r2_score\n",
    "from sklearn.model_selection import train_test_split\n",
    "from sklearn.pipeline import Pipeline\n",
    "from sklearn.preprocessing import MinMaxScaler, Binarizer\n",
    "\n",
    "# from feature-engine\n",
    "from feature_engine.imputation import (\n",
    "    AddMissingIndicator,\n",
    "    MeanMedianImputer,\n",
    "    CategoricalImputer,\n",
    ")\n",
    "\n",
    "from feature_engine.encoding import (\n",
    "    RareLabelEncoder,\n",
    "    OrdinalEncoder,\n",
    ")\n",
    "\n",
    "from feature_engine.transformation import (\n",
    "    LogTransformer,\n",
    "    YeoJohnsonTransformer,\n",
    ")\n",
    "\n",
    "from feature_engine.selection import DropFeatures\n",
    "from feature_engine.wrappers import SklearnTransformerWrapper\n",
    "\n",
    "import preprocessors as pp\n",
    "\n",
    "# to visualise al the columns in the dataframe\n",
    "pd.pandas.set_option('display.max_columns', None)"
   ]
  },
  {
   "cell_type": "code",
   "execution_count": 2,
   "metadata": {
    "ExecuteTime": {
     "end_time": "2023-12-06T17:19:00.330302700Z",
     "start_time": "2023-12-06T17:19:00.252247300Z"
    }
   },
   "outputs": [
    {
     "name": "stdout",
     "output_type": "stream",
     "text": [
      "(1460, 81)\n"
     ]
    },
    {
     "data": {
      "text/plain": "   Id  MSSubClass MSZoning  LotFrontage  LotArea Street Alley LotShape  \\\n0   1          60       RL         65.0     8450   Pave   NaN      Reg   \n1   2          20       RL         80.0     9600   Pave   NaN      Reg   \n2   3          60       RL         68.0    11250   Pave   NaN      IR1   \n3   4          70       RL         60.0     9550   Pave   NaN      IR1   \n4   5          60       RL         84.0    14260   Pave   NaN      IR1   \n\n  LandContour Utilities LotConfig LandSlope Neighborhood Condition1  \\\n0         Lvl    AllPub    Inside       Gtl      CollgCr       Norm   \n1         Lvl    AllPub       FR2       Gtl      Veenker      Feedr   \n2         Lvl    AllPub    Inside       Gtl      CollgCr       Norm   \n3         Lvl    AllPub    Corner       Gtl      Crawfor       Norm   \n4         Lvl    AllPub       FR2       Gtl      NoRidge       Norm   \n\n  Condition2 BldgType HouseStyle  OverallQual  OverallCond  YearBuilt  \\\n0       Norm     1Fam     2Story            7            5       2003   \n1       Norm     1Fam     1Story            6            8       1976   \n2       Norm     1Fam     2Story            7            5       2001   \n3       Norm     1Fam     2Story            7            5       1915   \n4       Norm     1Fam     2Story            8            5       2000   \n\n   YearRemodAdd RoofStyle RoofMatl Exterior1st Exterior2nd MasVnrType  \\\n0          2003     Gable  CompShg     VinylSd     VinylSd    BrkFace   \n1          1976     Gable  CompShg     MetalSd     MetalSd        NaN   \n2          2002     Gable  CompShg     VinylSd     VinylSd    BrkFace   \n3          1970     Gable  CompShg     Wd Sdng     Wd Shng        NaN   \n4          2000     Gable  CompShg     VinylSd     VinylSd    BrkFace   \n\n   MasVnrArea ExterQual ExterCond Foundation BsmtQual BsmtCond BsmtExposure  \\\n0       196.0        Gd        TA      PConc       Gd       TA           No   \n1         0.0        TA        TA     CBlock       Gd       TA           Gd   \n2       162.0        Gd        TA      PConc       Gd       TA           Mn   \n3         0.0        TA        TA     BrkTil       TA       Gd           No   \n4       350.0        Gd        TA      PConc       Gd       TA           Av   \n\n  BsmtFinType1  BsmtFinSF1 BsmtFinType2  BsmtFinSF2  BsmtUnfSF  TotalBsmtSF  \\\n0          GLQ         706          Unf           0        150          856   \n1          ALQ         978          Unf           0        284         1262   \n2          GLQ         486          Unf           0        434          920   \n3          ALQ         216          Unf           0        540          756   \n4          GLQ         655          Unf           0        490         1145   \n\n  Heating HeatingQC CentralAir Electrical  1stFlrSF  2ndFlrSF  LowQualFinSF  \\\n0    GasA        Ex          Y      SBrkr       856       854             0   \n1    GasA        Ex          Y      SBrkr      1262         0             0   \n2    GasA        Ex          Y      SBrkr       920       866             0   \n3    GasA        Gd          Y      SBrkr       961       756             0   \n4    GasA        Ex          Y      SBrkr      1145      1053             0   \n\n   GrLivArea  BsmtFullBath  BsmtHalfBath  FullBath  HalfBath  BedroomAbvGr  \\\n0       1710             1             0         2         1             3   \n1       1262             0             1         2         0             3   \n2       1786             1             0         2         1             3   \n3       1717             1             0         1         0             3   \n4       2198             1             0         2         1             4   \n\n   KitchenAbvGr KitchenQual  TotRmsAbvGrd Functional  Fireplaces FireplaceQu  \\\n0             1          Gd             8        Typ           0         NaN   \n1             1          TA             6        Typ           1          TA   \n2             1          Gd             6        Typ           1          TA   \n3             1          Gd             7        Typ           1          Gd   \n4             1          Gd             9        Typ           1          TA   \n\n  GarageType  GarageYrBlt GarageFinish  GarageCars  GarageArea GarageQual  \\\n0     Attchd       2003.0          RFn           2         548         TA   \n1     Attchd       1976.0          RFn           2         460         TA   \n2     Attchd       2001.0          RFn           2         608         TA   \n3     Detchd       1998.0          Unf           3         642         TA   \n4     Attchd       2000.0          RFn           3         836         TA   \n\n  GarageCond PavedDrive  WoodDeckSF  OpenPorchSF  EnclosedPorch  3SsnPorch  \\\n0         TA          Y           0           61              0          0   \n1         TA          Y         298            0              0          0   \n2         TA          Y           0           42              0          0   \n3         TA          Y           0           35            272          0   \n4         TA          Y         192           84              0          0   \n\n   ScreenPorch  PoolArea PoolQC Fence MiscFeature  MiscVal  MoSold  YrSold  \\\n0            0         0    NaN   NaN         NaN        0       2    2008   \n1            0         0    NaN   NaN         NaN        0       5    2007   \n2            0         0    NaN   NaN         NaN        0       9    2008   \n3            0         0    NaN   NaN         NaN        0       2    2006   \n4            0         0    NaN   NaN         NaN        0      12    2008   \n\n  SaleType SaleCondition  SalePrice  \n0       WD        Normal     208500  \n1       WD        Normal     181500  \n2       WD        Normal     223500  \n3       WD       Abnorml     140000  \n4       WD        Normal     250000  ",
      "text/html": "<div>\n<style scoped>\n    .dataframe tbody tr th:only-of-type {\n        vertical-align: middle;\n    }\n\n    .dataframe tbody tr th {\n        vertical-align: top;\n    }\n\n    .dataframe thead th {\n        text-align: right;\n    }\n</style>\n<table border=\"1\" class=\"dataframe\">\n  <thead>\n    <tr style=\"text-align: right;\">\n      <th></th>\n      <th>Id</th>\n      <th>MSSubClass</th>\n      <th>MSZoning</th>\n      <th>LotFrontage</th>\n      <th>LotArea</th>\n      <th>Street</th>\n      <th>Alley</th>\n      <th>LotShape</th>\n      <th>LandContour</th>\n      <th>Utilities</th>\n      <th>LotConfig</th>\n      <th>LandSlope</th>\n      <th>Neighborhood</th>\n      <th>Condition1</th>\n      <th>Condition2</th>\n      <th>BldgType</th>\n      <th>HouseStyle</th>\n      <th>OverallQual</th>\n      <th>OverallCond</th>\n      <th>YearBuilt</th>\n      <th>YearRemodAdd</th>\n      <th>RoofStyle</th>\n      <th>RoofMatl</th>\n      <th>Exterior1st</th>\n      <th>Exterior2nd</th>\n      <th>MasVnrType</th>\n      <th>MasVnrArea</th>\n      <th>ExterQual</th>\n      <th>ExterCond</th>\n      <th>Foundation</th>\n      <th>BsmtQual</th>\n      <th>BsmtCond</th>\n      <th>BsmtExposure</th>\n      <th>BsmtFinType1</th>\n      <th>BsmtFinSF1</th>\n      <th>BsmtFinType2</th>\n      <th>BsmtFinSF2</th>\n      <th>BsmtUnfSF</th>\n      <th>TotalBsmtSF</th>\n      <th>Heating</th>\n      <th>HeatingQC</th>\n      <th>CentralAir</th>\n      <th>Electrical</th>\n      <th>1stFlrSF</th>\n      <th>2ndFlrSF</th>\n      <th>LowQualFinSF</th>\n      <th>GrLivArea</th>\n      <th>BsmtFullBath</th>\n      <th>BsmtHalfBath</th>\n      <th>FullBath</th>\n      <th>HalfBath</th>\n      <th>BedroomAbvGr</th>\n      <th>KitchenAbvGr</th>\n      <th>KitchenQual</th>\n      <th>TotRmsAbvGrd</th>\n      <th>Functional</th>\n      <th>Fireplaces</th>\n      <th>FireplaceQu</th>\n      <th>GarageType</th>\n      <th>GarageYrBlt</th>\n      <th>GarageFinish</th>\n      <th>GarageCars</th>\n      <th>GarageArea</th>\n      <th>GarageQual</th>\n      <th>GarageCond</th>\n      <th>PavedDrive</th>\n      <th>WoodDeckSF</th>\n      <th>OpenPorchSF</th>\n      <th>EnclosedPorch</th>\n      <th>3SsnPorch</th>\n      <th>ScreenPorch</th>\n      <th>PoolArea</th>\n      <th>PoolQC</th>\n      <th>Fence</th>\n      <th>MiscFeature</th>\n      <th>MiscVal</th>\n      <th>MoSold</th>\n      <th>YrSold</th>\n      <th>SaleType</th>\n      <th>SaleCondition</th>\n      <th>SalePrice</th>\n    </tr>\n  </thead>\n  <tbody>\n    <tr>\n      <th>0</th>\n      <td>1</td>\n      <td>60</td>\n      <td>RL</td>\n      <td>65.0</td>\n      <td>8450</td>\n      <td>Pave</td>\n      <td>NaN</td>\n      <td>Reg</td>\n      <td>Lvl</td>\n      <td>AllPub</td>\n      <td>Inside</td>\n      <td>Gtl</td>\n      <td>CollgCr</td>\n      <td>Norm</td>\n      <td>Norm</td>\n      <td>1Fam</td>\n      <td>2Story</td>\n      <td>7</td>\n      <td>5</td>\n      <td>2003</td>\n      <td>2003</td>\n      <td>Gable</td>\n      <td>CompShg</td>\n      <td>VinylSd</td>\n      <td>VinylSd</td>\n      <td>BrkFace</td>\n      <td>196.0</td>\n      <td>Gd</td>\n      <td>TA</td>\n      <td>PConc</td>\n      <td>Gd</td>\n      <td>TA</td>\n      <td>No</td>\n      <td>GLQ</td>\n      <td>706</td>\n      <td>Unf</td>\n      <td>0</td>\n      <td>150</td>\n      <td>856</td>\n      <td>GasA</td>\n      <td>Ex</td>\n      <td>Y</td>\n      <td>SBrkr</td>\n      <td>856</td>\n      <td>854</td>\n      <td>0</td>\n      <td>1710</td>\n      <td>1</td>\n      <td>0</td>\n      <td>2</td>\n      <td>1</td>\n      <td>3</td>\n      <td>1</td>\n      <td>Gd</td>\n      <td>8</td>\n      <td>Typ</td>\n      <td>0</td>\n      <td>NaN</td>\n      <td>Attchd</td>\n      <td>2003.0</td>\n      <td>RFn</td>\n      <td>2</td>\n      <td>548</td>\n      <td>TA</td>\n      <td>TA</td>\n      <td>Y</td>\n      <td>0</td>\n      <td>61</td>\n      <td>0</td>\n      <td>0</td>\n      <td>0</td>\n      <td>0</td>\n      <td>NaN</td>\n      <td>NaN</td>\n      <td>NaN</td>\n      <td>0</td>\n      <td>2</td>\n      <td>2008</td>\n      <td>WD</td>\n      <td>Normal</td>\n      <td>208500</td>\n    </tr>\n    <tr>\n      <th>1</th>\n      <td>2</td>\n      <td>20</td>\n      <td>RL</td>\n      <td>80.0</td>\n      <td>9600</td>\n      <td>Pave</td>\n      <td>NaN</td>\n      <td>Reg</td>\n      <td>Lvl</td>\n      <td>AllPub</td>\n      <td>FR2</td>\n      <td>Gtl</td>\n      <td>Veenker</td>\n      <td>Feedr</td>\n      <td>Norm</td>\n      <td>1Fam</td>\n      <td>1Story</td>\n      <td>6</td>\n      <td>8</td>\n      <td>1976</td>\n      <td>1976</td>\n      <td>Gable</td>\n      <td>CompShg</td>\n      <td>MetalSd</td>\n      <td>MetalSd</td>\n      <td>NaN</td>\n      <td>0.0</td>\n      <td>TA</td>\n      <td>TA</td>\n      <td>CBlock</td>\n      <td>Gd</td>\n      <td>TA</td>\n      <td>Gd</td>\n      <td>ALQ</td>\n      <td>978</td>\n      <td>Unf</td>\n      <td>0</td>\n      <td>284</td>\n      <td>1262</td>\n      <td>GasA</td>\n      <td>Ex</td>\n      <td>Y</td>\n      <td>SBrkr</td>\n      <td>1262</td>\n      <td>0</td>\n      <td>0</td>\n      <td>1262</td>\n      <td>0</td>\n      <td>1</td>\n      <td>2</td>\n      <td>0</td>\n      <td>3</td>\n      <td>1</td>\n      <td>TA</td>\n      <td>6</td>\n      <td>Typ</td>\n      <td>1</td>\n      <td>TA</td>\n      <td>Attchd</td>\n      <td>1976.0</td>\n      <td>RFn</td>\n      <td>2</td>\n      <td>460</td>\n      <td>TA</td>\n      <td>TA</td>\n      <td>Y</td>\n      <td>298</td>\n      <td>0</td>\n      <td>0</td>\n      <td>0</td>\n      <td>0</td>\n      <td>0</td>\n      <td>NaN</td>\n      <td>NaN</td>\n      <td>NaN</td>\n      <td>0</td>\n      <td>5</td>\n      <td>2007</td>\n      <td>WD</td>\n      <td>Normal</td>\n      <td>181500</td>\n    </tr>\n    <tr>\n      <th>2</th>\n      <td>3</td>\n      <td>60</td>\n      <td>RL</td>\n      <td>68.0</td>\n      <td>11250</td>\n      <td>Pave</td>\n      <td>NaN</td>\n      <td>IR1</td>\n      <td>Lvl</td>\n      <td>AllPub</td>\n      <td>Inside</td>\n      <td>Gtl</td>\n      <td>CollgCr</td>\n      <td>Norm</td>\n      <td>Norm</td>\n      <td>1Fam</td>\n      <td>2Story</td>\n      <td>7</td>\n      <td>5</td>\n      <td>2001</td>\n      <td>2002</td>\n      <td>Gable</td>\n      <td>CompShg</td>\n      <td>VinylSd</td>\n      <td>VinylSd</td>\n      <td>BrkFace</td>\n      <td>162.0</td>\n      <td>Gd</td>\n      <td>TA</td>\n      <td>PConc</td>\n      <td>Gd</td>\n      <td>TA</td>\n      <td>Mn</td>\n      <td>GLQ</td>\n      <td>486</td>\n      <td>Unf</td>\n      <td>0</td>\n      <td>434</td>\n      <td>920</td>\n      <td>GasA</td>\n      <td>Ex</td>\n      <td>Y</td>\n      <td>SBrkr</td>\n      <td>920</td>\n      <td>866</td>\n      <td>0</td>\n      <td>1786</td>\n      <td>1</td>\n      <td>0</td>\n      <td>2</td>\n      <td>1</td>\n      <td>3</td>\n      <td>1</td>\n      <td>Gd</td>\n      <td>6</td>\n      <td>Typ</td>\n      <td>1</td>\n      <td>TA</td>\n      <td>Attchd</td>\n      <td>2001.0</td>\n      <td>RFn</td>\n      <td>2</td>\n      <td>608</td>\n      <td>TA</td>\n      <td>TA</td>\n      <td>Y</td>\n      <td>0</td>\n      <td>42</td>\n      <td>0</td>\n      <td>0</td>\n      <td>0</td>\n      <td>0</td>\n      <td>NaN</td>\n      <td>NaN</td>\n      <td>NaN</td>\n      <td>0</td>\n      <td>9</td>\n      <td>2008</td>\n      <td>WD</td>\n      <td>Normal</td>\n      <td>223500</td>\n    </tr>\n    <tr>\n      <th>3</th>\n      <td>4</td>\n      <td>70</td>\n      <td>RL</td>\n      <td>60.0</td>\n      <td>9550</td>\n      <td>Pave</td>\n      <td>NaN</td>\n      <td>IR1</td>\n      <td>Lvl</td>\n      <td>AllPub</td>\n      <td>Corner</td>\n      <td>Gtl</td>\n      <td>Crawfor</td>\n      <td>Norm</td>\n      <td>Norm</td>\n      <td>1Fam</td>\n      <td>2Story</td>\n      <td>7</td>\n      <td>5</td>\n      <td>1915</td>\n      <td>1970</td>\n      <td>Gable</td>\n      <td>CompShg</td>\n      <td>Wd Sdng</td>\n      <td>Wd Shng</td>\n      <td>NaN</td>\n      <td>0.0</td>\n      <td>TA</td>\n      <td>TA</td>\n      <td>BrkTil</td>\n      <td>TA</td>\n      <td>Gd</td>\n      <td>No</td>\n      <td>ALQ</td>\n      <td>216</td>\n      <td>Unf</td>\n      <td>0</td>\n      <td>540</td>\n      <td>756</td>\n      <td>GasA</td>\n      <td>Gd</td>\n      <td>Y</td>\n      <td>SBrkr</td>\n      <td>961</td>\n      <td>756</td>\n      <td>0</td>\n      <td>1717</td>\n      <td>1</td>\n      <td>0</td>\n      <td>1</td>\n      <td>0</td>\n      <td>3</td>\n      <td>1</td>\n      <td>Gd</td>\n      <td>7</td>\n      <td>Typ</td>\n      <td>1</td>\n      <td>Gd</td>\n      <td>Detchd</td>\n      <td>1998.0</td>\n      <td>Unf</td>\n      <td>3</td>\n      <td>642</td>\n      <td>TA</td>\n      <td>TA</td>\n      <td>Y</td>\n      <td>0</td>\n      <td>35</td>\n      <td>272</td>\n      <td>0</td>\n      <td>0</td>\n      <td>0</td>\n      <td>NaN</td>\n      <td>NaN</td>\n      <td>NaN</td>\n      <td>0</td>\n      <td>2</td>\n      <td>2006</td>\n      <td>WD</td>\n      <td>Abnorml</td>\n      <td>140000</td>\n    </tr>\n    <tr>\n      <th>4</th>\n      <td>5</td>\n      <td>60</td>\n      <td>RL</td>\n      <td>84.0</td>\n      <td>14260</td>\n      <td>Pave</td>\n      <td>NaN</td>\n      <td>IR1</td>\n      <td>Lvl</td>\n      <td>AllPub</td>\n      <td>FR2</td>\n      <td>Gtl</td>\n      <td>NoRidge</td>\n      <td>Norm</td>\n      <td>Norm</td>\n      <td>1Fam</td>\n      <td>2Story</td>\n      <td>8</td>\n      <td>5</td>\n      <td>2000</td>\n      <td>2000</td>\n      <td>Gable</td>\n      <td>CompShg</td>\n      <td>VinylSd</td>\n      <td>VinylSd</td>\n      <td>BrkFace</td>\n      <td>350.0</td>\n      <td>Gd</td>\n      <td>TA</td>\n      <td>PConc</td>\n      <td>Gd</td>\n      <td>TA</td>\n      <td>Av</td>\n      <td>GLQ</td>\n      <td>655</td>\n      <td>Unf</td>\n      <td>0</td>\n      <td>490</td>\n      <td>1145</td>\n      <td>GasA</td>\n      <td>Ex</td>\n      <td>Y</td>\n      <td>SBrkr</td>\n      <td>1145</td>\n      <td>1053</td>\n      <td>0</td>\n      <td>2198</td>\n      <td>1</td>\n      <td>0</td>\n      <td>2</td>\n      <td>1</td>\n      <td>4</td>\n      <td>1</td>\n      <td>Gd</td>\n      <td>9</td>\n      <td>Typ</td>\n      <td>1</td>\n      <td>TA</td>\n      <td>Attchd</td>\n      <td>2000.0</td>\n      <td>RFn</td>\n      <td>3</td>\n      <td>836</td>\n      <td>TA</td>\n      <td>TA</td>\n      <td>Y</td>\n      <td>192</td>\n      <td>84</td>\n      <td>0</td>\n      <td>0</td>\n      <td>0</td>\n      <td>0</td>\n      <td>NaN</td>\n      <td>NaN</td>\n      <td>NaN</td>\n      <td>0</td>\n      <td>12</td>\n      <td>2008</td>\n      <td>WD</td>\n      <td>Normal</td>\n      <td>250000</td>\n    </tr>\n  </tbody>\n</table>\n</div>"
     },
     "execution_count": 2,
     "metadata": {},
     "output_type": "execute_result"
    }
   ],
   "source": [
    "# load dataset\n",
    "data = pd.read_csv('train.csv')\n",
    "\n",
    "# rows and columns of the data\n",
    "print(data.shape)\n",
    "\n",
    "# visualise the dataset\n",
    "data.head()"
   ]
  },
  {
   "cell_type": "code",
   "execution_count": 3,
   "metadata": {
    "ExecuteTime": {
     "end_time": "2023-12-06T17:19:00.406382900Z",
     "start_time": "2023-12-06T17:19:00.332491100Z"
    }
   },
   "outputs": [],
   "source": [
    "# Cast MSSubClass as object\n",
    "\n",
    "data['MSSubClass'] = data['MSSubClass'].astype('O')"
   ]
  },
  {
   "cell_type": "markdown",
   "metadata": {},
   "source": [
    "# Separate dataset into train and test\n",
    "\n",
    "It is important to separate our data intro training and testing set. \n",
    "\n",
    "When we engineer features, some techniques learn parameters from data. It is important to learn these parameters only from the train set. This is to avoid over-fitting.\n",
    "\n",
    "Our feature engineering techniques will learn:\n",
    "\n",
    "- mean\n",
    "- mode\n",
    "- exponents for the yeo-johnson\n",
    "- category frequency\n",
    "- and category to number mappings\n",
    "\n",
    "from the train set.\n",
    "\n",
    "**Separating the data into train and test involves randomness, therefore, we need to set the seed.**"
   ]
  },
  {
   "cell_type": "code",
   "execution_count": 4,
   "metadata": {
    "ExecuteTime": {
     "end_time": "2023-12-06T17:19:00.430529900Z",
     "start_time": "2023-12-06T17:19:00.348189400Z"
    }
   },
   "outputs": [
    {
     "data": {
      "text/plain": "((1314, 79), (146, 79))"
     },
     "execution_count": 4,
     "metadata": {},
     "output_type": "execute_result"
    }
   ],
   "source": [
    "# Let's separate into train and test set\n",
    "# Remember to set the seed (random_state for this sklearn function)\n",
    "\n",
    "X_train, X_test, y_train, y_test = train_test_split(\n",
    "    data.drop(['Id', 'SalePrice'], axis=1), # predictive variables\n",
    "    data['SalePrice'], # target\n",
    "    test_size=0.1, # portion of dataset to allocate to test set\n",
    "    random_state=0, # we are setting the seed here\n",
    ")\n",
    "\n",
    "X_train.shape, X_test.shape"
   ]
  },
  {
   "cell_type": "markdown",
   "metadata": {},
   "source": [
    "# Target\n",
    "\n",
    "We apply the logarithm"
   ]
  },
  {
   "cell_type": "code",
   "execution_count": 5,
   "metadata": {
    "ExecuteTime": {
     "end_time": "2023-12-06T17:19:00.431588700Z",
     "start_time": "2023-12-06T17:19:00.397714600Z"
    }
   },
   "outputs": [],
   "source": [
    "y_train = np.log(y_train)\n",
    "y_test = np.log(y_test)"
   ]
  },
  {
   "cell_type": "markdown",
   "metadata": {},
   "source": [
    "# Config"
   ]
  },
  {
   "cell_type": "code",
   "execution_count": 6,
   "metadata": {
    "ExecuteTime": {
     "end_time": "2023-12-06T17:19:00.449076200Z",
     "start_time": "2023-12-06T17:19:00.400841300Z"
    }
   },
   "outputs": [],
   "source": [
    "# categorical variables with NA in train set\n",
    "CATEGORICAL_VARS_WITH_NA_FREQUENT = ['MasVnrType',\n",
    "                                     'BsmtQual',\n",
    "                                     'BsmtCond',\n",
    "                                     'BsmtExposure',\n",
    "                                     'BsmtFinType1',\n",
    "                                     'BsmtFinType2',\n",
    "                                     'Electrical',\n",
    "                                     'GarageType',\n",
    "                                     'GarageFinish',\n",
    "                                     'GarageQual',\n",
    "                                     'GarageCond']\n",
    "\n",
    "\n",
    "CATEGORICAL_VARS_WITH_NA_MISSING = [\n",
    "    'Alley', 'FireplaceQu', 'PoolQC', 'Fence', 'MiscFeature']\n",
    "\n",
    "\n",
    "# numerical variables with NA in train set\n",
    "NUMERICAL_VARS_WITH_NA = ['LotFrontage', 'MasVnrArea', 'GarageYrBlt']\n",
    "\n",
    "\n",
    "TEMPORAL_VARS = ['YearBuilt', 'YearRemodAdd', 'GarageYrBlt']\n",
    "REF_VAR = \"YrSold\"\n",
    "\n",
    "\n",
    "# variables to log transform\n",
    "NUMERICALS_LOG_VARS = [\"LotFrontage\", \"1stFlrSF\", \"GrLivArea\"]\n",
    "\n",
    "NUMERICALS_YEO_VARS = ['LotArea']\n",
    "\n",
    "\n",
    "BINARIZE_VARS = [\n",
    "    'BsmtFinSF2', 'LowQualFinSF', 'EnclosedPorch',\n",
    "    '3SsnPorch', 'ScreenPorch', 'MiscVal'\n",
    "]\n",
    "\n",
    "# variables to map\n",
    "QUAL_VARS = ['ExterQual', 'ExterCond', 'BsmtQual', 'BsmtCond',\n",
    "             'HeatingQC', 'KitchenQual', 'FireplaceQu',\n",
    "             'GarageQual', 'GarageCond',\n",
    "             ]\n",
    "\n",
    "EXPOSURE_VARS = ['BsmtExposure']\n",
    "\n",
    "FINISH_VARS = ['BsmtFinType1', 'BsmtFinType2']\n",
    "\n",
    "GARAGE_VARS = ['GarageFinish']\n",
    "\n",
    "FENCE_VARS = ['Fence']\n",
    "\n",
    "# categorical variables to encode\n",
    "CATEGORICAL_VARS = [\n",
    "    'MSZoning',\n",
    "    'Street',\n",
    "    'Alley',\n",
    "    'LotShape',\n",
    "    'LandContour',\n",
    "    'Utilities',\n",
    "    'LotConfig',\n",
    "    'LandSlope',\n",
    "    'Neighborhood',\n",
    "    'Condition1',\n",
    "    'Condition2',\n",
    "    'BldgType',\n",
    "    'HouseStyle',\n",
    "    'RoofStyle',\n",
    "    'RoofMatl',\n",
    "    'Exterior1st',\n",
    "    'Exterior2nd',\n",
    "    'MasVnrType',\n",
    "    'Foundation',\n",
    "    'Heating',\n",
    "    'CentralAir',\n",
    "    'Electrical',\n",
    "    'Functional',\n",
    "    'GarageType',\n",
    "    'PavedDrive',\n",
    "    'PoolQC',\n",
    "    'MiscFeature',\n",
    "    'SaleType',\n",
    "    'SaleCondition',\n",
    "    'MSSubClass']\n",
    "\n",
    "\n",
    "QUAL_MAPPINGS = {'Po': 1, 'Fa': 2, 'TA': 3,\n",
    "                 'Gd': 4, 'Ex': 5, 'Missing': 0, 'NA': 0}\n",
    "\n",
    "EXPOSURE_MAPPINGS = {'No': 1, 'Mn': 2, 'Av': 3, 'Gd': 4}\n",
    "\n",
    "FINISH_MAPPINGS = {'Missing': 0, 'NA': 0, 'Unf': 1,\n",
    "                   'LwQ': 2, 'Rec': 3, 'BLQ': 4, 'ALQ': 5, 'GLQ': 6}\n",
    "\n",
    "GARAGE_MAPPINGS = {'Missing': 0, 'NA': 0, 'Unf': 1, 'RFn': 2, 'Fin': 3}\n",
    "\n",
    "FENCE_MAPPINGS = {'Missing': 0, 'NA': 0,\n",
    "                  'MnWw': 1, 'GdWo': 2, 'MnPrv': 3, 'GdPrv': 4}"
   ]
  },
  {
   "cell_type": "markdown",
   "metadata": {},
   "source": [
    "# Pipeline - Feature engineering"
   ]
  },
  {
   "cell_type": "code",
   "execution_count": 7,
   "metadata": {
    "ExecuteTime": {
     "end_time": "2023-12-06T17:19:00.450108300Z",
     "start_time": "2023-12-06T17:19:00.405305300Z"
    }
   },
   "outputs": [],
   "source": [
    "# set up the pipeline\n",
    "price_pipe = Pipeline([\n",
    "\n",
    "    # ===== IMPUTATION =====\n",
    "    # impute categorical variables with string missing\n",
    "    ('missing_imputation', CategoricalImputer(\n",
    "        imputation_method='missing', variables=CATEGORICAL_VARS_WITH_NA_MISSING)),\n",
    "\n",
    "    ('frequent_imputation', CategoricalImputer(\n",
    "        imputation_method='frequent', variables=CATEGORICAL_VARS_WITH_NA_FREQUENT)),\n",
    "\n",
    "    # add missing indicator\n",
    "    ('missing_indicator', AddMissingIndicator(variables=NUMERICAL_VARS_WITH_NA)),\n",
    "\n",
    "    # impute numerical variables with the mean\n",
    "    ('mean_imputation', MeanMedianImputer(\n",
    "        imputation_method='mean', variables=NUMERICAL_VARS_WITH_NA\n",
    "    )),\n",
    "    \n",
    "    \n",
    "    # == TEMPORAL VARIABLES ====\n",
    "    ('elapsed_time', pp.TemporalVariableTransformer(\n",
    "        variables=TEMPORAL_VARS, reference_variable=REF_VAR)),\n",
    "\n",
    "    ('drop_features', DropFeatures(features_to_drop=[REF_VAR])),\n",
    "\n",
    "   \n",
    "\n",
    "    # ==== VARIABLE TRANSFORMATION =====\n",
    "    ('log', LogTransformer(variables=NUMERICALS_LOG_VARS)),\n",
    "    \n",
    "    ('yeojohnson', YeoJohnsonTransformer(variables=NUMERICALS_YEO_VARS)),\n",
    "    \n",
    "    ('binarizer', SklearnTransformerWrapper(\n",
    "        transformer=Binarizer(threshold=0), variables=BINARIZE_VARS)),\n",
    "    \n",
    "\n",
    "    # === mappers ===\n",
    "    ('mapper_qual', pp.Mapper(\n",
    "        variables=QUAL_VARS, mappings=QUAL_MAPPINGS)),\n",
    "\n",
    "    ('mapper_exposure', pp.Mapper(\n",
    "        variables=EXPOSURE_VARS, mappings=EXPOSURE_MAPPINGS)),\n",
    "\n",
    "    ('mapper_finish', pp.Mapper(\n",
    "        variables=FINISH_VARS, mappings=FINISH_MAPPINGS)),\n",
    "\n",
    "    ('mapper_garage', pp.Mapper(\n",
    "        variables=GARAGE_VARS, mappings=GARAGE_MAPPINGS)),\n",
    "    \n",
    "    ('mapper_fence', pp.Mapper(\n",
    "        variables=FENCE_VARS, mappings=FENCE_MAPPINGS)),\n",
    "\n",
    "\n",
    "    # == CATEGORICAL ENCODING\n",
    "    ('rare_label_encoder', RareLabelEncoder(\n",
    "        tol=0.01, n_categories=1, variables=CATEGORICAL_VARS\n",
    "    )),\n",
    "\n",
    "    # encode categorical and discrete variables using the target mean\n",
    "    ('categorical_encoder', OrdinalEncoder(\n",
    "        encoding_method='ordered', variables=CATEGORICAL_VARS)),\n",
    "])"
   ]
  },
  {
   "cell_type": "code",
   "execution_count": 20,
   "outputs": [
    {
     "name": "stdout",
     "output_type": "stream",
     "text": [
      "Object Features:\n",
      "[]\n"
     ]
    }
   ],
   "source": [
    "object_features = X_train.select_dtypes(include='object')\n",
    "print(\"Object Features:\")\n",
    "print(object_features.columns.tolist())"
   ],
   "metadata": {
    "collapsed": false,
    "ExecuteTime": {
     "end_time": "2023-12-06T17:37:46.762175300Z",
     "start_time": "2023-12-06T17:37:46.734461400Z"
    }
   }
  },
  {
   "cell_type": "code",
   "execution_count": 17,
   "outputs": [
    {
     "name": "stdout",
     "output_type": "stream",
     "text": [
      "<class 'pandas.core.frame.DataFrame'>\n",
      "Index: 1314 entries, 930 to 684\n",
      "Data columns (total 81 columns):\n",
      " #   Column          Non-Null Count  Dtype  \n",
      "---  ------          --------------  -----  \n",
      " 0   MSSubClass      1314 non-null   int64  \n",
      " 1   MSZoning        1314 non-null   int64  \n",
      " 2   LotFrontage     1314 non-null   float64\n",
      " 3   LotArea         1314 non-null   float64\n",
      " 4   Street          1314 non-null   int64  \n",
      " 5   Alley           1314 non-null   int64  \n",
      " 6   LotShape        1314 non-null   int64  \n",
      " 7   LandContour     1314 non-null   int64  \n",
      " 8   Utilities       1314 non-null   int64  \n",
      " 9   LotConfig       1314 non-null   int64  \n",
      " 10  LandSlope       1314 non-null   int64  \n",
      " 11  Neighborhood    1314 non-null   int64  \n",
      " 12  Condition1      1314 non-null   int64  \n",
      " 13  Condition2      1314 non-null   int64  \n",
      " 14  BldgType        1314 non-null   int64  \n",
      " 15  HouseStyle      1314 non-null   int64  \n",
      " 16  OverallQual     1314 non-null   int64  \n",
      " 17  OverallCond     1314 non-null   int64  \n",
      " 18  YearBuilt       1314 non-null   int64  \n",
      " 19  YearRemodAdd    1314 non-null   int64  \n",
      " 20  RoofStyle       1314 non-null   int64  \n",
      " 21  RoofMatl        1314 non-null   int64  \n",
      " 22  Exterior1st     1314 non-null   int64  \n",
      " 23  Exterior2nd     1314 non-null   int64  \n",
      " 24  MasVnrType      1314 non-null   int64  \n",
      " 25  MasVnrArea      1314 non-null   float64\n",
      " 26  ExterQual       1314 non-null   int64  \n",
      " 27  ExterCond       1314 non-null   int64  \n",
      " 28  Foundation      1314 non-null   int64  \n",
      " 29  BsmtQual        1314 non-null   int64  \n",
      " 30  BsmtCond        1314 non-null   int64  \n",
      " 31  BsmtExposure    1314 non-null   int64  \n",
      " 32  BsmtFinType1    1314 non-null   int64  \n",
      " 33  BsmtFinSF1      1314 non-null   int64  \n",
      " 34  BsmtFinType2    1314 non-null   int64  \n",
      " 35  BsmtFinSF2      1314 non-null   int64  \n",
      " 36  BsmtUnfSF       1314 non-null   int64  \n",
      " 37  TotalBsmtSF     1314 non-null   int64  \n",
      " 38  Heating         1314 non-null   int64  \n",
      " 39  HeatingQC       1314 non-null   int64  \n",
      " 40  CentralAir      1314 non-null   int64  \n",
      " 41  Electrical      1314 non-null   int64  \n",
      " 42  1stFlrSF        1314 non-null   float64\n",
      " 43  2ndFlrSF        1314 non-null   int64  \n",
      " 44  LowQualFinSF    1314 non-null   int64  \n",
      " 45  GrLivArea       1314 non-null   float64\n",
      " 46  BsmtFullBath    1314 non-null   int64  \n",
      " 47  BsmtHalfBath    1314 non-null   int64  \n",
      " 48  FullBath        1314 non-null   int64  \n",
      " 49  HalfBath        1314 non-null   int64  \n",
      " 50  BedroomAbvGr    1314 non-null   int64  \n",
      " 51  KitchenAbvGr    1314 non-null   int64  \n",
      " 52  KitchenQual     1314 non-null   int64  \n",
      " 53  TotRmsAbvGrd    1314 non-null   int64  \n",
      " 54  Functional      1314 non-null   int64  \n",
      " 55  Fireplaces      1314 non-null   int64  \n",
      " 56  FireplaceQu     1314 non-null   int64  \n",
      " 57  GarageType      1314 non-null   int64  \n",
      " 58  GarageYrBlt     1314 non-null   float64\n",
      " 59  GarageFinish    1314 non-null   int64  \n",
      " 60  GarageCars      1314 non-null   int64  \n",
      " 61  GarageArea      1314 non-null   int64  \n",
      " 62  GarageQual      1314 non-null   int64  \n",
      " 63  GarageCond      1314 non-null   int64  \n",
      " 64  PavedDrive      1314 non-null   int64  \n",
      " 65  WoodDeckSF      1314 non-null   int64  \n",
      " 66  OpenPorchSF     1314 non-null   int64  \n",
      " 67  EnclosedPorch   1314 non-null   int64  \n",
      " 68  3SsnPorch       1314 non-null   int64  \n",
      " 69  ScreenPorch     1314 non-null   int64  \n",
      " 70  PoolArea        1314 non-null   int64  \n",
      " 71  PoolQC          1314 non-null   int64  \n",
      " 72  Fence           1314 non-null   int64  \n",
      " 73  MiscFeature     1314 non-null   int64  \n",
      " 74  MiscVal         1314 non-null   int64  \n",
      " 75  MoSold          1314 non-null   int64  \n",
      " 76  SaleType        1314 non-null   int64  \n",
      " 77  SaleCondition   1314 non-null   int64  \n",
      " 78  LotFrontage_na  1314 non-null   int32  \n",
      " 79  MasVnrArea_na   1314 non-null   int32  \n",
      " 80  GarageYrBlt_na  1314 non-null   int32  \n",
      "dtypes: float64(6), int32(3), int64(72)\n",
      "memory usage: 826.4 KB\n"
     ]
    }
   ],
   "source": [
    "# show the data type of the X_train\n",
    "X_train.info()"
   ],
   "metadata": {
    "collapsed": false,
    "ExecuteTime": {
     "end_time": "2023-12-06T17:22:02.808255Z",
     "start_time": "2023-12-06T17:22:02.793240400Z"
    }
   }
  },
  {
   "cell_type": "code",
   "execution_count": 18,
   "outputs": [
    {
     "data": {
      "text/plain": "      MSSubClass  MSZoning  LotFrontage   LotArea  Street  Alley  LotShape  \\\n930            9         3     4.290459  0.079663       1      2         1   \n656            9         3     4.276666  0.079663       1      2         1   \n45            11         3     4.110874  0.079663       1      2         0   \n1348           9         3     4.246776  0.079663       1      2         2   \n55             9         3     4.605170  0.079663       1      2         1   \n\n      LandContour  Utilities  LotConfig  LandSlope  Neighborhood  Condition1  \\\n930             3          1          0          0            19           2   \n656             1          1          0          0             8           2   \n45              1          1          0          0            21           2   \n1348            2          1          0          0            10           2   \n55              1          1          0          0             8           2   \n\n      Condition2  BldgType  HouseStyle  OverallQual  OverallCond  YearBuilt  \\\n930            1         3           3            8            5          2   \n656            1         3           3            5            7         49   \n45             1         4           3            9            5          5   \n1348           1         3           3            7            5          9   \n55             1         3           3            6            5         44   \n\n      YearRemodAdd  RoofStyle  RoofMatl  Exterior1st  Exterior2nd  MasVnrType  \\\n930              2          0         0           10           10           1   \n656              2          0         0            6            6           1   \n45               5          2         0            3            2           1   \n1348             9          0         0           10           10           1   \n55              44          0         0            6            7           1   \n\n      MasVnrArea  ExterQual  ExterCond  Foundation  BsmtQual  BsmtCond  \\\n930          0.0          4          3           4         4         3   \n656         54.0          4          3           2         3         3   \n45         412.0          5          3           4         5         3   \n1348         0.0          4          3           4         4         3   \n55         272.0          3          3           2         3         3   \n\n      BsmtExposure  BsmtFinType1  BsmtFinSF1  BsmtFinType2  BsmtFinSF2  \\\n930              3             6          16             1           0   \n656              1             5         806             1           0   \n45               1             6         456             1           0   \n1348             4             6        1443             1           0   \n55               1             4         490             1           0   \n\n      BsmtUnfSF  TotalBsmtSF  Heating  HeatingQC  CentralAir  Electrical  \\\n930        1450         1466        2          5           1           3   \n656         247         1053        2          5           1           3   \n45         1296         1752        2          5           1           3   \n1348         39         1482        2          5           1           3   \n55          935         1425        2          4           1           3   \n\n      1stFlrSF  2ndFlrSF  LowQualFinSF  GrLivArea  BsmtFullBath  BsmtHalfBath  \\\n930   7.290293         0             0   7.290293             0             0   \n656   6.959399         0             0   6.959399             1             0   \n45    7.468513         0             0   7.468513             1             0   \n1348  7.309212         0             0   7.309212             1             0   \n55    7.261927         0             0   7.261927             0             0   \n\n      FullBath  HalfBath  BedroomAbvGr  KitchenAbvGr  KitchenQual  \\\n930          2         0             3             1            4   \n656          1         1             3             1            4   \n45           2         0             2             1            5   \n1348         2         0             3             1            4   \n55           2         0             3             1            3   \n\n      TotRmsAbvGrd  Functional  Fireplaces  FireplaceQu  GarageType  \\\n930              7           4           0            0           3   \n656              5           4           0            0           3   \n45               6           4           1            4           3   \n1348             5           4           1            2           3   \n55               7           4           1            4           3   \n\n      GarageYrBlt  GarageFinish  GarageCars  GarageArea  GarageQual  \\\n930           2.0             3           3         610           3   \n656          49.0             2           1         312           3   \n45            5.0             2           2         576           3   \n1348          9.0             2           2         514           3   \n55           44.0             2           2         576           3   \n\n      GarageCond  PavedDrive  WoodDeckSF  OpenPorchSF  EnclosedPorch  \\\n930            3           2         100           18              0   \n656            3           2           0            0              0   \n45             3           2         196           82              0   \n1348           3           2         402           25              0   \n55             3           2           0            0              0   \n\n      3SsnPorch  ScreenPorch  PoolArea  PoolQC  Fence  MiscFeature  MiscVal  \\\n930           0            0         0       0      0            2        0   \n656           0            0         0       0      3            2        0   \n45            0            0         0       0      0            2        0   \n1348          0            0         0       0      0            2        0   \n55            1            0         0       0      0            2        0   \n\n      MoSold  SaleType  SaleCondition  LotFrontage_na  MasVnrArea_na  \\\n930        7         2              3               0              0   \n656        8         2              3               0              0   \n45         2         2              3               0              0   \n1348       8         2              3               1              0   \n55         7         2              3               0              0   \n\n      GarageYrBlt_na  \n930                0  \n656                0  \n45                 0  \n1348               0  \n55                 0  ",
      "text/html": "<div>\n<style scoped>\n    .dataframe tbody tr th:only-of-type {\n        vertical-align: middle;\n    }\n\n    .dataframe tbody tr th {\n        vertical-align: top;\n    }\n\n    .dataframe thead th {\n        text-align: right;\n    }\n</style>\n<table border=\"1\" class=\"dataframe\">\n  <thead>\n    <tr style=\"text-align: right;\">\n      <th></th>\n      <th>MSSubClass</th>\n      <th>MSZoning</th>\n      <th>LotFrontage</th>\n      <th>LotArea</th>\n      <th>Street</th>\n      <th>Alley</th>\n      <th>LotShape</th>\n      <th>LandContour</th>\n      <th>Utilities</th>\n      <th>LotConfig</th>\n      <th>LandSlope</th>\n      <th>Neighborhood</th>\n      <th>Condition1</th>\n      <th>Condition2</th>\n      <th>BldgType</th>\n      <th>HouseStyle</th>\n      <th>OverallQual</th>\n      <th>OverallCond</th>\n      <th>YearBuilt</th>\n      <th>YearRemodAdd</th>\n      <th>RoofStyle</th>\n      <th>RoofMatl</th>\n      <th>Exterior1st</th>\n      <th>Exterior2nd</th>\n      <th>MasVnrType</th>\n      <th>MasVnrArea</th>\n      <th>ExterQual</th>\n      <th>ExterCond</th>\n      <th>Foundation</th>\n      <th>BsmtQual</th>\n      <th>BsmtCond</th>\n      <th>BsmtExposure</th>\n      <th>BsmtFinType1</th>\n      <th>BsmtFinSF1</th>\n      <th>BsmtFinType2</th>\n      <th>BsmtFinSF2</th>\n      <th>BsmtUnfSF</th>\n      <th>TotalBsmtSF</th>\n      <th>Heating</th>\n      <th>HeatingQC</th>\n      <th>CentralAir</th>\n      <th>Electrical</th>\n      <th>1stFlrSF</th>\n      <th>2ndFlrSF</th>\n      <th>LowQualFinSF</th>\n      <th>GrLivArea</th>\n      <th>BsmtFullBath</th>\n      <th>BsmtHalfBath</th>\n      <th>FullBath</th>\n      <th>HalfBath</th>\n      <th>BedroomAbvGr</th>\n      <th>KitchenAbvGr</th>\n      <th>KitchenQual</th>\n      <th>TotRmsAbvGrd</th>\n      <th>Functional</th>\n      <th>Fireplaces</th>\n      <th>FireplaceQu</th>\n      <th>GarageType</th>\n      <th>GarageYrBlt</th>\n      <th>GarageFinish</th>\n      <th>GarageCars</th>\n      <th>GarageArea</th>\n      <th>GarageQual</th>\n      <th>GarageCond</th>\n      <th>PavedDrive</th>\n      <th>WoodDeckSF</th>\n      <th>OpenPorchSF</th>\n      <th>EnclosedPorch</th>\n      <th>3SsnPorch</th>\n      <th>ScreenPorch</th>\n      <th>PoolArea</th>\n      <th>PoolQC</th>\n      <th>Fence</th>\n      <th>MiscFeature</th>\n      <th>MiscVal</th>\n      <th>MoSold</th>\n      <th>SaleType</th>\n      <th>SaleCondition</th>\n      <th>LotFrontage_na</th>\n      <th>MasVnrArea_na</th>\n      <th>GarageYrBlt_na</th>\n    </tr>\n  </thead>\n  <tbody>\n    <tr>\n      <th>930</th>\n      <td>9</td>\n      <td>3</td>\n      <td>4.290459</td>\n      <td>0.079663</td>\n      <td>1</td>\n      <td>2</td>\n      <td>1</td>\n      <td>3</td>\n      <td>1</td>\n      <td>0</td>\n      <td>0</td>\n      <td>19</td>\n      <td>2</td>\n      <td>1</td>\n      <td>3</td>\n      <td>3</td>\n      <td>8</td>\n      <td>5</td>\n      <td>2</td>\n      <td>2</td>\n      <td>0</td>\n      <td>0</td>\n      <td>10</td>\n      <td>10</td>\n      <td>1</td>\n      <td>0.0</td>\n      <td>4</td>\n      <td>3</td>\n      <td>4</td>\n      <td>4</td>\n      <td>3</td>\n      <td>3</td>\n      <td>6</td>\n      <td>16</td>\n      <td>1</td>\n      <td>0</td>\n      <td>1450</td>\n      <td>1466</td>\n      <td>2</td>\n      <td>5</td>\n      <td>1</td>\n      <td>3</td>\n      <td>7.290293</td>\n      <td>0</td>\n      <td>0</td>\n      <td>7.290293</td>\n      <td>0</td>\n      <td>0</td>\n      <td>2</td>\n      <td>0</td>\n      <td>3</td>\n      <td>1</td>\n      <td>4</td>\n      <td>7</td>\n      <td>4</td>\n      <td>0</td>\n      <td>0</td>\n      <td>3</td>\n      <td>2.0</td>\n      <td>3</td>\n      <td>3</td>\n      <td>610</td>\n      <td>3</td>\n      <td>3</td>\n      <td>2</td>\n      <td>100</td>\n      <td>18</td>\n      <td>0</td>\n      <td>0</td>\n      <td>0</td>\n      <td>0</td>\n      <td>0</td>\n      <td>0</td>\n      <td>2</td>\n      <td>0</td>\n      <td>7</td>\n      <td>2</td>\n      <td>3</td>\n      <td>0</td>\n      <td>0</td>\n      <td>0</td>\n    </tr>\n    <tr>\n      <th>656</th>\n      <td>9</td>\n      <td>3</td>\n      <td>4.276666</td>\n      <td>0.079663</td>\n      <td>1</td>\n      <td>2</td>\n      <td>1</td>\n      <td>1</td>\n      <td>1</td>\n      <td>0</td>\n      <td>0</td>\n      <td>8</td>\n      <td>2</td>\n      <td>1</td>\n      <td>3</td>\n      <td>3</td>\n      <td>5</td>\n      <td>7</td>\n      <td>49</td>\n      <td>2</td>\n      <td>0</td>\n      <td>0</td>\n      <td>6</td>\n      <td>6</td>\n      <td>1</td>\n      <td>54.0</td>\n      <td>4</td>\n      <td>3</td>\n      <td>2</td>\n      <td>3</td>\n      <td>3</td>\n      <td>1</td>\n      <td>5</td>\n      <td>806</td>\n      <td>1</td>\n      <td>0</td>\n      <td>247</td>\n      <td>1053</td>\n      <td>2</td>\n      <td>5</td>\n      <td>1</td>\n      <td>3</td>\n      <td>6.959399</td>\n      <td>0</td>\n      <td>0</td>\n      <td>6.959399</td>\n      <td>1</td>\n      <td>0</td>\n      <td>1</td>\n      <td>1</td>\n      <td>3</td>\n      <td>1</td>\n      <td>4</td>\n      <td>5</td>\n      <td>4</td>\n      <td>0</td>\n      <td>0</td>\n      <td>3</td>\n      <td>49.0</td>\n      <td>2</td>\n      <td>1</td>\n      <td>312</td>\n      <td>3</td>\n      <td>3</td>\n      <td>2</td>\n      <td>0</td>\n      <td>0</td>\n      <td>0</td>\n      <td>0</td>\n      <td>0</td>\n      <td>0</td>\n      <td>0</td>\n      <td>3</td>\n      <td>2</td>\n      <td>0</td>\n      <td>8</td>\n      <td>2</td>\n      <td>3</td>\n      <td>0</td>\n      <td>0</td>\n      <td>0</td>\n    </tr>\n    <tr>\n      <th>45</th>\n      <td>11</td>\n      <td>3</td>\n      <td>4.110874</td>\n      <td>0.079663</td>\n      <td>1</td>\n      <td>2</td>\n      <td>0</td>\n      <td>1</td>\n      <td>1</td>\n      <td>0</td>\n      <td>0</td>\n      <td>21</td>\n      <td>2</td>\n      <td>1</td>\n      <td>4</td>\n      <td>3</td>\n      <td>9</td>\n      <td>5</td>\n      <td>5</td>\n      <td>5</td>\n      <td>2</td>\n      <td>0</td>\n      <td>3</td>\n      <td>2</td>\n      <td>1</td>\n      <td>412.0</td>\n      <td>5</td>\n      <td>3</td>\n      <td>4</td>\n      <td>5</td>\n      <td>3</td>\n      <td>1</td>\n      <td>6</td>\n      <td>456</td>\n      <td>1</td>\n      <td>0</td>\n      <td>1296</td>\n      <td>1752</td>\n      <td>2</td>\n      <td>5</td>\n      <td>1</td>\n      <td>3</td>\n      <td>7.468513</td>\n      <td>0</td>\n      <td>0</td>\n      <td>7.468513</td>\n      <td>1</td>\n      <td>0</td>\n      <td>2</td>\n      <td>0</td>\n      <td>2</td>\n      <td>1</td>\n      <td>5</td>\n      <td>6</td>\n      <td>4</td>\n      <td>1</td>\n      <td>4</td>\n      <td>3</td>\n      <td>5.0</td>\n      <td>2</td>\n      <td>2</td>\n      <td>576</td>\n      <td>3</td>\n      <td>3</td>\n      <td>2</td>\n      <td>196</td>\n      <td>82</td>\n      <td>0</td>\n      <td>0</td>\n      <td>0</td>\n      <td>0</td>\n      <td>0</td>\n      <td>0</td>\n      <td>2</td>\n      <td>0</td>\n      <td>2</td>\n      <td>2</td>\n      <td>3</td>\n      <td>0</td>\n      <td>0</td>\n      <td>0</td>\n    </tr>\n    <tr>\n      <th>1348</th>\n      <td>9</td>\n      <td>3</td>\n      <td>4.246776</td>\n      <td>0.079663</td>\n      <td>1</td>\n      <td>2</td>\n      <td>2</td>\n      <td>2</td>\n      <td>1</td>\n      <td>0</td>\n      <td>0</td>\n      <td>10</td>\n      <td>2</td>\n      <td>1</td>\n      <td>3</td>\n      <td>3</td>\n      <td>7</td>\n      <td>5</td>\n      <td>9</td>\n      <td>9</td>\n      <td>0</td>\n      <td>0</td>\n      <td>10</td>\n      <td>10</td>\n      <td>1</td>\n      <td>0.0</td>\n      <td>4</td>\n      <td>3</td>\n      <td>4</td>\n      <td>4</td>\n      <td>3</td>\n      <td>4</td>\n      <td>6</td>\n      <td>1443</td>\n      <td>1</td>\n      <td>0</td>\n      <td>39</td>\n      <td>1482</td>\n      <td>2</td>\n      <td>5</td>\n      <td>1</td>\n      <td>3</td>\n      <td>7.309212</td>\n      <td>0</td>\n      <td>0</td>\n      <td>7.309212</td>\n      <td>1</td>\n      <td>0</td>\n      <td>2</td>\n      <td>0</td>\n      <td>3</td>\n      <td>1</td>\n      <td>4</td>\n      <td>5</td>\n      <td>4</td>\n      <td>1</td>\n      <td>2</td>\n      <td>3</td>\n      <td>9.0</td>\n      <td>2</td>\n      <td>2</td>\n      <td>514</td>\n      <td>3</td>\n      <td>3</td>\n      <td>2</td>\n      <td>402</td>\n      <td>25</td>\n      <td>0</td>\n      <td>0</td>\n      <td>0</td>\n      <td>0</td>\n      <td>0</td>\n      <td>0</td>\n      <td>2</td>\n      <td>0</td>\n      <td>8</td>\n      <td>2</td>\n      <td>3</td>\n      <td>1</td>\n      <td>0</td>\n      <td>0</td>\n    </tr>\n    <tr>\n      <th>55</th>\n      <td>9</td>\n      <td>3</td>\n      <td>4.605170</td>\n      <td>0.079663</td>\n      <td>1</td>\n      <td>2</td>\n      <td>1</td>\n      <td>1</td>\n      <td>1</td>\n      <td>0</td>\n      <td>0</td>\n      <td>8</td>\n      <td>2</td>\n      <td>1</td>\n      <td>3</td>\n      <td>3</td>\n      <td>6</td>\n      <td>5</td>\n      <td>44</td>\n      <td>44</td>\n      <td>0</td>\n      <td>0</td>\n      <td>6</td>\n      <td>7</td>\n      <td>1</td>\n      <td>272.0</td>\n      <td>3</td>\n      <td>3</td>\n      <td>2</td>\n      <td>3</td>\n      <td>3</td>\n      <td>1</td>\n      <td>4</td>\n      <td>490</td>\n      <td>1</td>\n      <td>0</td>\n      <td>935</td>\n      <td>1425</td>\n      <td>2</td>\n      <td>4</td>\n      <td>1</td>\n      <td>3</td>\n      <td>7.261927</td>\n      <td>0</td>\n      <td>0</td>\n      <td>7.261927</td>\n      <td>0</td>\n      <td>0</td>\n      <td>2</td>\n      <td>0</td>\n      <td>3</td>\n      <td>1</td>\n      <td>3</td>\n      <td>7</td>\n      <td>4</td>\n      <td>1</td>\n      <td>4</td>\n      <td>3</td>\n      <td>44.0</td>\n      <td>2</td>\n      <td>2</td>\n      <td>576</td>\n      <td>3</td>\n      <td>3</td>\n      <td>2</td>\n      <td>0</td>\n      <td>0</td>\n      <td>0</td>\n      <td>1</td>\n      <td>0</td>\n      <td>0</td>\n      <td>0</td>\n      <td>0</td>\n      <td>2</td>\n      <td>0</td>\n      <td>7</td>\n      <td>2</td>\n      <td>3</td>\n      <td>0</td>\n      <td>0</td>\n      <td>0</td>\n    </tr>\n  </tbody>\n</table>\n</div>"
     },
     "execution_count": 18,
     "metadata": {},
     "output_type": "execute_result"
    }
   ],
   "source": [
    "X_train.head()"
   ],
   "metadata": {
    "collapsed": false,
    "ExecuteTime": {
     "end_time": "2023-12-06T17:36:12.539155900Z",
     "start_time": "2023-12-06T17:36:12.522364100Z"
    }
   }
  },
  {
   "cell_type": "code",
   "execution_count": 22,
   "metadata": {
    "ExecuteTime": {
     "end_time": "2023-12-06T17:39:21.412223400Z",
     "start_time": "2023-12-06T17:39:21.343524900Z"
    }
   },
   "outputs": [
    {
     "ename": "TypeError",
     "evalue": "Some of the variables are not categorical. Please cast them as object before calling this transformer",
     "output_type": "error",
     "traceback": [
      "\u001B[1;31m---------------------------------------------------------------------------\u001B[0m",
      "\u001B[1;31mTypeError\u001B[0m                                 Traceback (most recent call last)",
      "Cell \u001B[1;32mIn[22], line 7\u001B[0m\n\u001B[0;32m      4\u001B[0m np\u001B[38;5;241m.\u001B[39mfloat \u001B[38;5;241m=\u001B[39m \u001B[38;5;28mfloat\u001B[39m\n\u001B[0;32m      6\u001B[0m \u001B[38;5;66;03m# train the pipeline\u001B[39;00m\n\u001B[1;32m----> 7\u001B[0m \u001B[43mprice_pipe\u001B[49m\u001B[38;5;241;43m.\u001B[39;49m\u001B[43mfit\u001B[49m\u001B[43m(\u001B[49m\u001B[43mX_train\u001B[49m\u001B[43m,\u001B[49m\u001B[43m \u001B[49m\u001B[43my_train\u001B[49m\u001B[43m)\u001B[49m\n",
      "File \u001B[1;32m~\\Documents\\deploying-machine-learning-models\\venv\\lib\\site-packages\\sklearn\\pipeline.py:341\u001B[0m, in \u001B[0;36mPipeline.fit\u001B[1;34m(self, X, y, **fit_params)\u001B[0m\n\u001B[0;32m    315\u001B[0m \u001B[38;5;250m\u001B[39m\u001B[38;5;124;03m\"\"\"Fit the model\u001B[39;00m\n\u001B[0;32m    316\u001B[0m \n\u001B[0;32m    317\u001B[0m \u001B[38;5;124;03mFit all the transforms one after the other and transform the\u001B[39;00m\n\u001B[1;32m   (...)\u001B[0m\n\u001B[0;32m    338\u001B[0m \u001B[38;5;124;03m    This estimator\u001B[39;00m\n\u001B[0;32m    339\u001B[0m \u001B[38;5;124;03m\"\"\"\u001B[39;00m\n\u001B[0;32m    340\u001B[0m fit_params_steps \u001B[38;5;241m=\u001B[39m \u001B[38;5;28mself\u001B[39m\u001B[38;5;241m.\u001B[39m_check_fit_params(\u001B[38;5;241m*\u001B[39m\u001B[38;5;241m*\u001B[39mfit_params)\n\u001B[1;32m--> 341\u001B[0m Xt \u001B[38;5;241m=\u001B[39m \u001B[38;5;28mself\u001B[39m\u001B[38;5;241m.\u001B[39m_fit(X, y, \u001B[38;5;241m*\u001B[39m\u001B[38;5;241m*\u001B[39mfit_params_steps)\n\u001B[0;32m    342\u001B[0m \u001B[38;5;28;01mwith\u001B[39;00m _print_elapsed_time(\u001B[38;5;124m'\u001B[39m\u001B[38;5;124mPipeline\u001B[39m\u001B[38;5;124m'\u001B[39m,\n\u001B[0;32m    343\u001B[0m                          \u001B[38;5;28mself\u001B[39m\u001B[38;5;241m.\u001B[39m_log_message(\u001B[38;5;28mlen\u001B[39m(\u001B[38;5;28mself\u001B[39m\u001B[38;5;241m.\u001B[39msteps) \u001B[38;5;241m-\u001B[39m \u001B[38;5;241m1\u001B[39m)):\n\u001B[0;32m    344\u001B[0m     \u001B[38;5;28;01mif\u001B[39;00m \u001B[38;5;28mself\u001B[39m\u001B[38;5;241m.\u001B[39m_final_estimator \u001B[38;5;241m!=\u001B[39m \u001B[38;5;124m'\u001B[39m\u001B[38;5;124mpassthrough\u001B[39m\u001B[38;5;124m'\u001B[39m:\n",
      "File \u001B[1;32m~\\Documents\\deploying-machine-learning-models\\venv\\lib\\site-packages\\sklearn\\pipeline.py:303\u001B[0m, in \u001B[0;36mPipeline._fit\u001B[1;34m(self, X, y, **fit_params_steps)\u001B[0m\n\u001B[0;32m    301\u001B[0m     cloned_transformer \u001B[38;5;241m=\u001B[39m clone(transformer)\n\u001B[0;32m    302\u001B[0m \u001B[38;5;66;03m# Fit or load from cache the current transformer\u001B[39;00m\n\u001B[1;32m--> 303\u001B[0m X, fitted_transformer \u001B[38;5;241m=\u001B[39m fit_transform_one_cached(\n\u001B[0;32m    304\u001B[0m     cloned_transformer, X, y, \u001B[38;5;28;01mNone\u001B[39;00m,\n\u001B[0;32m    305\u001B[0m     message_clsname\u001B[38;5;241m=\u001B[39m\u001B[38;5;124m'\u001B[39m\u001B[38;5;124mPipeline\u001B[39m\u001B[38;5;124m'\u001B[39m,\n\u001B[0;32m    306\u001B[0m     message\u001B[38;5;241m=\u001B[39m\u001B[38;5;28mself\u001B[39m\u001B[38;5;241m.\u001B[39m_log_message(step_idx),\n\u001B[0;32m    307\u001B[0m     \u001B[38;5;241m*\u001B[39m\u001B[38;5;241m*\u001B[39mfit_params_steps[name])\n\u001B[0;32m    308\u001B[0m \u001B[38;5;66;03m# Replace the transformer of the step with the fitted\u001B[39;00m\n\u001B[0;32m    309\u001B[0m \u001B[38;5;66;03m# transformer. This is necessary when loading the transformer\u001B[39;00m\n\u001B[0;32m    310\u001B[0m \u001B[38;5;66;03m# from the cache.\u001B[39;00m\n\u001B[0;32m    311\u001B[0m \u001B[38;5;28mself\u001B[39m\u001B[38;5;241m.\u001B[39msteps[step_idx] \u001B[38;5;241m=\u001B[39m (name, fitted_transformer)\n",
      "File \u001B[1;32m~\\Documents\\deploying-machine-learning-models\\venv\\lib\\site-packages\\joblib\\memory.py:352\u001B[0m, in \u001B[0;36mNotMemorizedFunc.__call__\u001B[1;34m(self, *args, **kwargs)\u001B[0m\n\u001B[0;32m    351\u001B[0m \u001B[38;5;28;01mdef\u001B[39;00m \u001B[38;5;21m__call__\u001B[39m(\u001B[38;5;28mself\u001B[39m, \u001B[38;5;241m*\u001B[39margs, \u001B[38;5;241m*\u001B[39m\u001B[38;5;241m*\u001B[39mkwargs):\n\u001B[1;32m--> 352\u001B[0m     \u001B[38;5;28;01mreturn\u001B[39;00m \u001B[38;5;28mself\u001B[39m\u001B[38;5;241m.\u001B[39mfunc(\u001B[38;5;241m*\u001B[39margs, \u001B[38;5;241m*\u001B[39m\u001B[38;5;241m*\u001B[39mkwargs)\n",
      "File \u001B[1;32m~\\Documents\\deploying-machine-learning-models\\venv\\lib\\site-packages\\sklearn\\pipeline.py:754\u001B[0m, in \u001B[0;36m_fit_transform_one\u001B[1;34m(transformer, X, y, weight, message_clsname, message, **fit_params)\u001B[0m\n\u001B[0;32m    752\u001B[0m \u001B[38;5;28;01mwith\u001B[39;00m _print_elapsed_time(message_clsname, message):\n\u001B[0;32m    753\u001B[0m     \u001B[38;5;28;01mif\u001B[39;00m \u001B[38;5;28mhasattr\u001B[39m(transformer, \u001B[38;5;124m'\u001B[39m\u001B[38;5;124mfit_transform\u001B[39m\u001B[38;5;124m'\u001B[39m):\n\u001B[1;32m--> 754\u001B[0m         res \u001B[38;5;241m=\u001B[39m transformer\u001B[38;5;241m.\u001B[39mfit_transform(X, y, \u001B[38;5;241m*\u001B[39m\u001B[38;5;241m*\u001B[39mfit_params)\n\u001B[0;32m    755\u001B[0m     \u001B[38;5;28;01melse\u001B[39;00m:\n\u001B[0;32m    756\u001B[0m         res \u001B[38;5;241m=\u001B[39m transformer\u001B[38;5;241m.\u001B[39mfit(X, y, \u001B[38;5;241m*\u001B[39m\u001B[38;5;241m*\u001B[39mfit_params)\u001B[38;5;241m.\u001B[39mtransform(X)\n",
      "File \u001B[1;32m~\\Documents\\deploying-machine-learning-models\\venv\\lib\\site-packages\\sklearn\\base.py:702\u001B[0m, in \u001B[0;36mTransformerMixin.fit_transform\u001B[1;34m(self, X, y, **fit_params)\u001B[0m\n\u001B[0;32m    699\u001B[0m     \u001B[38;5;28;01mreturn\u001B[39;00m \u001B[38;5;28mself\u001B[39m\u001B[38;5;241m.\u001B[39mfit(X, \u001B[38;5;241m*\u001B[39m\u001B[38;5;241m*\u001B[39mfit_params)\u001B[38;5;241m.\u001B[39mtransform(X)\n\u001B[0;32m    700\u001B[0m \u001B[38;5;28;01melse\u001B[39;00m:\n\u001B[0;32m    701\u001B[0m     \u001B[38;5;66;03m# fit method of arity 2 (supervised transformation)\u001B[39;00m\n\u001B[1;32m--> 702\u001B[0m     \u001B[38;5;28;01mreturn\u001B[39;00m \u001B[38;5;28mself\u001B[39m\u001B[38;5;241m.\u001B[39mfit(X, y, \u001B[38;5;241m*\u001B[39m\u001B[38;5;241m*\u001B[39mfit_params)\u001B[38;5;241m.\u001B[39mtransform(X)\n",
      "File \u001B[1;32m~\\Documents\\deploying-machine-learning-models\\venv\\lib\\site-packages\\feature_engine\\imputation\\categorical.py:121\u001B[0m, in \u001B[0;36mCategoricalImputer.fit\u001B[1;34m(self, X, y)\u001B[0m\n\u001B[0;32m    118\u001B[0m X \u001B[38;5;241m=\u001B[39m _is_dataframe(X)\n\u001B[0;32m    120\u001B[0m \u001B[38;5;66;03m# find or check for categorical variables\u001B[39;00m\n\u001B[1;32m--> 121\u001B[0m \u001B[38;5;28mself\u001B[39m\u001B[38;5;241m.\u001B[39mvariables \u001B[38;5;241m=\u001B[39m \u001B[43m_find_or_check_categorical_variables\u001B[49m\u001B[43m(\u001B[49m\u001B[43mX\u001B[49m\u001B[43m,\u001B[49m\u001B[43m \u001B[49m\u001B[38;5;28;43mself\u001B[39;49m\u001B[38;5;241;43m.\u001B[39;49m\u001B[43mvariables\u001B[49m\u001B[43m)\u001B[49m\n\u001B[0;32m    123\u001B[0m \u001B[38;5;28;01mif\u001B[39;00m \u001B[38;5;28mself\u001B[39m\u001B[38;5;241m.\u001B[39mimputation_method \u001B[38;5;241m==\u001B[39m \u001B[38;5;124m\"\u001B[39m\u001B[38;5;124mmissing\u001B[39m\u001B[38;5;124m\"\u001B[39m:\n\u001B[0;32m    124\u001B[0m     \u001B[38;5;28mself\u001B[39m\u001B[38;5;241m.\u001B[39mimputer_dict_ \u001B[38;5;241m=\u001B[39m {var: \u001B[38;5;28mself\u001B[39m\u001B[38;5;241m.\u001B[39mfill_value \u001B[38;5;28;01mfor\u001B[39;00m var \u001B[38;5;129;01min\u001B[39;00m \u001B[38;5;28mself\u001B[39m\u001B[38;5;241m.\u001B[39mvariables}\n",
      "File \u001B[1;32m~\\Documents\\deploying-machine-learning-models\\venv\\lib\\site-packages\\feature_engine\\variable_manipulation.py:122\u001B[0m, in \u001B[0;36m_find_or_check_categorical_variables\u001B[1;34m(X, variables)\u001B[0m\n\u001B[0;32m    120\u001B[0m \u001B[38;5;28;01melse\u001B[39;00m:\n\u001B[0;32m    121\u001B[0m     \u001B[38;5;28;01mif\u001B[39;00m \u001B[38;5;28many\u001B[39m(X[variables]\u001B[38;5;241m.\u001B[39mselect_dtypes(exclude\u001B[38;5;241m=\u001B[39m\u001B[38;5;124m\"\u001B[39m\u001B[38;5;124mO\u001B[39m\u001B[38;5;124m\"\u001B[39m)\u001B[38;5;241m.\u001B[39mcolumns):\n\u001B[1;32m--> 122\u001B[0m         \u001B[38;5;28;01mraise\u001B[39;00m \u001B[38;5;167;01mTypeError\u001B[39;00m(\n\u001B[0;32m    123\u001B[0m             \u001B[38;5;124m\"\u001B[39m\u001B[38;5;124mSome of the variables are not categorical. Please cast them as object \u001B[39m\u001B[38;5;124m\"\u001B[39m\n\u001B[0;32m    124\u001B[0m             \u001B[38;5;124m\"\u001B[39m\u001B[38;5;124mbefore calling this transformer\u001B[39m\u001B[38;5;124m\"\u001B[39m\n\u001B[0;32m    125\u001B[0m         )\n\u001B[0;32m    127\u001B[0m \u001B[38;5;28;01mreturn\u001B[39;00m variables\n",
      "\u001B[1;31mTypeError\u001B[0m: Some of the variables are not categorical. Please cast them as object before calling this transformer"
     ]
    }
   ],
   "source": [
    "import numpy as np\n",
    "\n",
    "# Override deprecated alias np.float\n",
    "np.float = float\n",
    "\n",
    "# train the pipeline\n",
    "price_pipe.fit(X_train, y_train)"
   ]
  },
  {
   "cell_type": "code",
   "execution_count": 11,
   "metadata": {
    "ExecuteTime": {
     "end_time": "2023-12-06T17:19:48.235278300Z",
     "start_time": "2023-12-06T17:19:48.140367400Z"
    }
   },
   "outputs": [
    {
     "name": "stderr",
     "output_type": "stream",
     "text": [
      "C:\\Users\\atashne\\Documents\\deploying-machine-learning-models\\venv\\lib\\site-packages\\sklearn\\utils\\validation.py:514: FutureWarning: is_sparse is deprecated and will be removed in a future version. Check `isinstance(dtype, pd.SparseDtype)` instead.\n",
      "  array.dtypes.apply(is_sparse).any()):\n",
      "C:\\Users\\atashne\\Documents\\deploying-machine-learning-models\\venv\\lib\\site-packages\\sklearn\\utils\\validation.py:514: FutureWarning: is_sparse is deprecated and will be removed in a future version. Check `isinstance(dtype, pd.SparseDtype)` instead.\n",
      "  array.dtypes.apply(is_sparse).any()):\n"
     ]
    }
   ],
   "source": [
    "X_train = price_pipe.transform(X_train)\n",
    "X_test = price_pipe.transform(X_test)"
   ]
  },
  {
   "cell_type": "code",
   "execution_count": 12,
   "metadata": {
    "ExecuteTime": {
     "end_time": "2023-12-06T17:19:51.692420900Z",
     "start_time": "2023-12-06T17:19:51.676524300Z"
    }
   },
   "outputs": [
    {
     "data": {
      "text/plain": "[]"
     },
     "execution_count": 12,
     "metadata": {},
     "output_type": "execute_result"
    }
   ],
   "source": [
    "# check absence of na in the train set\n",
    "[var for var in X_train.columns if X_train[var].isnull().sum() > 0]"
   ]
  },
  {
   "cell_type": "code",
   "execution_count": 13,
   "metadata": {
    "ExecuteTime": {
     "end_time": "2023-12-06T17:19:52.690321800Z",
     "start_time": "2023-12-06T17:19:52.656844200Z"
    }
   },
   "outputs": [
    {
     "data": {
      "text/plain": "[]"
     },
     "execution_count": 13,
     "metadata": {},
     "output_type": "execute_result"
    }
   ],
   "source": [
    "# check absence of na in the test set\n",
    "[var for var in X_test.columns if X_test[var].isnull().sum() > 0]"
   ]
  },
  {
   "cell_type": "code",
   "execution_count": 14,
   "metadata": {
    "scrolled": true,
    "ExecuteTime": {
     "end_time": "2023-12-06T17:19:53.310318500Z",
     "start_time": "2023-12-06T17:19:53.304899900Z"
    }
   },
   "outputs": [
    {
     "data": {
      "text/plain": "{'MasVnrType': 'BrkFace',\n 'BsmtQual': 'TA',\n 'BsmtCond': 'TA',\n 'BsmtExposure': 'No',\n 'BsmtFinType1': 'Unf',\n 'BsmtFinType2': 'Unf',\n 'Electrical': 'SBrkr',\n 'GarageType': 'Attchd',\n 'GarageFinish': 'Unf',\n 'GarageQual': 'TA',\n 'GarageCond': 'TA'}"
     },
     "execution_count": 14,
     "metadata": {},
     "output_type": "execute_result"
    }
   ],
   "source": [
    "# the parameters are learnt and stored in each step\n",
    "# of the pipeline\n",
    "\n",
    "price_pipe.named_steps['frequent_imputation'].imputer_dict_"
   ]
  },
  {
   "cell_type": "code",
   "execution_count": 21,
   "metadata": {
    "ExecuteTime": {
     "end_time": "2023-12-06T17:39:16.022540400Z",
     "start_time": "2023-12-06T17:39:15.973395300Z"
    }
   },
   "outputs": [
    {
     "data": {
      "text/plain": "      MSSubClass  MSZoning  LotFrontage   LotArea  Street  Alley  LotShape  \\\n930            9         3     4.290459  0.079663       1      2         1   \n656            9         3     4.276666  0.079663       1      2         1   \n45            11         3     4.110874  0.079663       1      2         0   \n1348           9         3     4.246776  0.079663       1      2         2   \n55             9         3     4.605170  0.079663       1      2         1   \n\n      LandContour  Utilities  LotConfig  LandSlope  Neighborhood  Condition1  \\\n930             3          1          0          0            19           2   \n656             1          1          0          0             8           2   \n45              1          1          0          0            21           2   \n1348            2          1          0          0            10           2   \n55              1          1          0          0             8           2   \n\n      Condition2  BldgType  HouseStyle  OverallQual  OverallCond  YearBuilt  \\\n930            1         3           3            8            5          2   \n656            1         3           3            5            7         49   \n45             1         4           3            9            5          5   \n1348           1         3           3            7            5          9   \n55             1         3           3            6            5         44   \n\n      YearRemodAdd  RoofStyle  RoofMatl  Exterior1st  Exterior2nd  MasVnrType  \\\n930              2          0         0           10           10           1   \n656              2          0         0            6            6           1   \n45               5          2         0            3            2           1   \n1348             9          0         0           10           10           1   \n55              44          0         0            6            7           1   \n\n      MasVnrArea  ExterQual  ExterCond  Foundation  BsmtQual  BsmtCond  \\\n930          0.0          4          3           4         4         3   \n656         54.0          4          3           2         3         3   \n45         412.0          5          3           4         5         3   \n1348         0.0          4          3           4         4         3   \n55         272.0          3          3           2         3         3   \n\n      BsmtExposure  BsmtFinType1  BsmtFinSF1  BsmtFinType2  BsmtFinSF2  \\\n930              3             6          16             1           0   \n656              1             5         806             1           0   \n45               1             6         456             1           0   \n1348             4             6        1443             1           0   \n55               1             4         490             1           0   \n\n      BsmtUnfSF  TotalBsmtSF  Heating  HeatingQC  CentralAir  Electrical  \\\n930        1450         1466        2          5           1           3   \n656         247         1053        2          5           1           3   \n45         1296         1752        2          5           1           3   \n1348         39         1482        2          5           1           3   \n55          935         1425        2          4           1           3   \n\n      1stFlrSF  2ndFlrSF  LowQualFinSF  GrLivArea  BsmtFullBath  BsmtHalfBath  \\\n930   7.290293         0             0   7.290293             0             0   \n656   6.959399         0             0   6.959399             1             0   \n45    7.468513         0             0   7.468513             1             0   \n1348  7.309212         0             0   7.309212             1             0   \n55    7.261927         0             0   7.261927             0             0   \n\n      FullBath  HalfBath  BedroomAbvGr  KitchenAbvGr  KitchenQual  \\\n930          2         0             3             1            4   \n656          1         1             3             1            4   \n45           2         0             2             1            5   \n1348         2         0             3             1            4   \n55           2         0             3             1            3   \n\n      TotRmsAbvGrd  Functional  Fireplaces  FireplaceQu  GarageType  \\\n930              7           4           0            0           3   \n656              5           4           0            0           3   \n45               6           4           1            4           3   \n1348             5           4           1            2           3   \n55               7           4           1            4           3   \n\n      GarageYrBlt  GarageFinish  GarageCars  GarageArea  GarageQual  \\\n930           2.0             3           3         610           3   \n656          49.0             2           1         312           3   \n45            5.0             2           2         576           3   \n1348          9.0             2           2         514           3   \n55           44.0             2           2         576           3   \n\n      GarageCond  PavedDrive  WoodDeckSF  OpenPorchSF  EnclosedPorch  \\\n930            3           2         100           18              0   \n656            3           2           0            0              0   \n45             3           2         196           82              0   \n1348           3           2         402           25              0   \n55             3           2           0            0              0   \n\n      3SsnPorch  ScreenPorch  PoolArea  PoolQC  Fence  MiscFeature  MiscVal  \\\n930           0            0         0       0      0            2        0   \n656           0            0         0       0      3            2        0   \n45            0            0         0       0      0            2        0   \n1348          0            0         0       0      0            2        0   \n55            1            0         0       0      0            2        0   \n\n      MoSold  SaleType  SaleCondition  LotFrontage_na  MasVnrArea_na  \\\n930        7         2              3               0              0   \n656        8         2              3               0              0   \n45         2         2              3               0              0   \n1348       8         2              3               1              0   \n55         7         2              3               0              0   \n\n      GarageYrBlt_na  \n930                0  \n656                0  \n45                 0  \n1348               0  \n55                 0  ",
      "text/html": "<div>\n<style scoped>\n    .dataframe tbody tr th:only-of-type {\n        vertical-align: middle;\n    }\n\n    .dataframe tbody tr th {\n        vertical-align: top;\n    }\n\n    .dataframe thead th {\n        text-align: right;\n    }\n</style>\n<table border=\"1\" class=\"dataframe\">\n  <thead>\n    <tr style=\"text-align: right;\">\n      <th></th>\n      <th>MSSubClass</th>\n      <th>MSZoning</th>\n      <th>LotFrontage</th>\n      <th>LotArea</th>\n      <th>Street</th>\n      <th>Alley</th>\n      <th>LotShape</th>\n      <th>LandContour</th>\n      <th>Utilities</th>\n      <th>LotConfig</th>\n      <th>LandSlope</th>\n      <th>Neighborhood</th>\n      <th>Condition1</th>\n      <th>Condition2</th>\n      <th>BldgType</th>\n      <th>HouseStyle</th>\n      <th>OverallQual</th>\n      <th>OverallCond</th>\n      <th>YearBuilt</th>\n      <th>YearRemodAdd</th>\n      <th>RoofStyle</th>\n      <th>RoofMatl</th>\n      <th>Exterior1st</th>\n      <th>Exterior2nd</th>\n      <th>MasVnrType</th>\n      <th>MasVnrArea</th>\n      <th>ExterQual</th>\n      <th>ExterCond</th>\n      <th>Foundation</th>\n      <th>BsmtQual</th>\n      <th>BsmtCond</th>\n      <th>BsmtExposure</th>\n      <th>BsmtFinType1</th>\n      <th>BsmtFinSF1</th>\n      <th>BsmtFinType2</th>\n      <th>BsmtFinSF2</th>\n      <th>BsmtUnfSF</th>\n      <th>TotalBsmtSF</th>\n      <th>Heating</th>\n      <th>HeatingQC</th>\n      <th>CentralAir</th>\n      <th>Electrical</th>\n      <th>1stFlrSF</th>\n      <th>2ndFlrSF</th>\n      <th>LowQualFinSF</th>\n      <th>GrLivArea</th>\n      <th>BsmtFullBath</th>\n      <th>BsmtHalfBath</th>\n      <th>FullBath</th>\n      <th>HalfBath</th>\n      <th>BedroomAbvGr</th>\n      <th>KitchenAbvGr</th>\n      <th>KitchenQual</th>\n      <th>TotRmsAbvGrd</th>\n      <th>Functional</th>\n      <th>Fireplaces</th>\n      <th>FireplaceQu</th>\n      <th>GarageType</th>\n      <th>GarageYrBlt</th>\n      <th>GarageFinish</th>\n      <th>GarageCars</th>\n      <th>GarageArea</th>\n      <th>GarageQual</th>\n      <th>GarageCond</th>\n      <th>PavedDrive</th>\n      <th>WoodDeckSF</th>\n      <th>OpenPorchSF</th>\n      <th>EnclosedPorch</th>\n      <th>3SsnPorch</th>\n      <th>ScreenPorch</th>\n      <th>PoolArea</th>\n      <th>PoolQC</th>\n      <th>Fence</th>\n      <th>MiscFeature</th>\n      <th>MiscVal</th>\n      <th>MoSold</th>\n      <th>SaleType</th>\n      <th>SaleCondition</th>\n      <th>LotFrontage_na</th>\n      <th>MasVnrArea_na</th>\n      <th>GarageYrBlt_na</th>\n    </tr>\n  </thead>\n  <tbody>\n    <tr>\n      <th>930</th>\n      <td>9</td>\n      <td>3</td>\n      <td>4.290459</td>\n      <td>0.079663</td>\n      <td>1</td>\n      <td>2</td>\n      <td>1</td>\n      <td>3</td>\n      <td>1</td>\n      <td>0</td>\n      <td>0</td>\n      <td>19</td>\n      <td>2</td>\n      <td>1</td>\n      <td>3</td>\n      <td>3</td>\n      <td>8</td>\n      <td>5</td>\n      <td>2</td>\n      <td>2</td>\n      <td>0</td>\n      <td>0</td>\n      <td>10</td>\n      <td>10</td>\n      <td>1</td>\n      <td>0.0</td>\n      <td>4</td>\n      <td>3</td>\n      <td>4</td>\n      <td>4</td>\n      <td>3</td>\n      <td>3</td>\n      <td>6</td>\n      <td>16</td>\n      <td>1</td>\n      <td>0</td>\n      <td>1450</td>\n      <td>1466</td>\n      <td>2</td>\n      <td>5</td>\n      <td>1</td>\n      <td>3</td>\n      <td>7.290293</td>\n      <td>0</td>\n      <td>0</td>\n      <td>7.290293</td>\n      <td>0</td>\n      <td>0</td>\n      <td>2</td>\n      <td>0</td>\n      <td>3</td>\n      <td>1</td>\n      <td>4</td>\n      <td>7</td>\n      <td>4</td>\n      <td>0</td>\n      <td>0</td>\n      <td>3</td>\n      <td>2.0</td>\n      <td>3</td>\n      <td>3</td>\n      <td>610</td>\n      <td>3</td>\n      <td>3</td>\n      <td>2</td>\n      <td>100</td>\n      <td>18</td>\n      <td>0</td>\n      <td>0</td>\n      <td>0</td>\n      <td>0</td>\n      <td>0</td>\n      <td>0</td>\n      <td>2</td>\n      <td>0</td>\n      <td>7</td>\n      <td>2</td>\n      <td>3</td>\n      <td>0</td>\n      <td>0</td>\n      <td>0</td>\n    </tr>\n    <tr>\n      <th>656</th>\n      <td>9</td>\n      <td>3</td>\n      <td>4.276666</td>\n      <td>0.079663</td>\n      <td>1</td>\n      <td>2</td>\n      <td>1</td>\n      <td>1</td>\n      <td>1</td>\n      <td>0</td>\n      <td>0</td>\n      <td>8</td>\n      <td>2</td>\n      <td>1</td>\n      <td>3</td>\n      <td>3</td>\n      <td>5</td>\n      <td>7</td>\n      <td>49</td>\n      <td>2</td>\n      <td>0</td>\n      <td>0</td>\n      <td>6</td>\n      <td>6</td>\n      <td>1</td>\n      <td>54.0</td>\n      <td>4</td>\n      <td>3</td>\n      <td>2</td>\n      <td>3</td>\n      <td>3</td>\n      <td>1</td>\n      <td>5</td>\n      <td>806</td>\n      <td>1</td>\n      <td>0</td>\n      <td>247</td>\n      <td>1053</td>\n      <td>2</td>\n      <td>5</td>\n      <td>1</td>\n      <td>3</td>\n      <td>6.959399</td>\n      <td>0</td>\n      <td>0</td>\n      <td>6.959399</td>\n      <td>1</td>\n      <td>0</td>\n      <td>1</td>\n      <td>1</td>\n      <td>3</td>\n      <td>1</td>\n      <td>4</td>\n      <td>5</td>\n      <td>4</td>\n      <td>0</td>\n      <td>0</td>\n      <td>3</td>\n      <td>49.0</td>\n      <td>2</td>\n      <td>1</td>\n      <td>312</td>\n      <td>3</td>\n      <td>3</td>\n      <td>2</td>\n      <td>0</td>\n      <td>0</td>\n      <td>0</td>\n      <td>0</td>\n      <td>0</td>\n      <td>0</td>\n      <td>0</td>\n      <td>3</td>\n      <td>2</td>\n      <td>0</td>\n      <td>8</td>\n      <td>2</td>\n      <td>3</td>\n      <td>0</td>\n      <td>0</td>\n      <td>0</td>\n    </tr>\n    <tr>\n      <th>45</th>\n      <td>11</td>\n      <td>3</td>\n      <td>4.110874</td>\n      <td>0.079663</td>\n      <td>1</td>\n      <td>2</td>\n      <td>0</td>\n      <td>1</td>\n      <td>1</td>\n      <td>0</td>\n      <td>0</td>\n      <td>21</td>\n      <td>2</td>\n      <td>1</td>\n      <td>4</td>\n      <td>3</td>\n      <td>9</td>\n      <td>5</td>\n      <td>5</td>\n      <td>5</td>\n      <td>2</td>\n      <td>0</td>\n      <td>3</td>\n      <td>2</td>\n      <td>1</td>\n      <td>412.0</td>\n      <td>5</td>\n      <td>3</td>\n      <td>4</td>\n      <td>5</td>\n      <td>3</td>\n      <td>1</td>\n      <td>6</td>\n      <td>456</td>\n      <td>1</td>\n      <td>0</td>\n      <td>1296</td>\n      <td>1752</td>\n      <td>2</td>\n      <td>5</td>\n      <td>1</td>\n      <td>3</td>\n      <td>7.468513</td>\n      <td>0</td>\n      <td>0</td>\n      <td>7.468513</td>\n      <td>1</td>\n      <td>0</td>\n      <td>2</td>\n      <td>0</td>\n      <td>2</td>\n      <td>1</td>\n      <td>5</td>\n      <td>6</td>\n      <td>4</td>\n      <td>1</td>\n      <td>4</td>\n      <td>3</td>\n      <td>5.0</td>\n      <td>2</td>\n      <td>2</td>\n      <td>576</td>\n      <td>3</td>\n      <td>3</td>\n      <td>2</td>\n      <td>196</td>\n      <td>82</td>\n      <td>0</td>\n      <td>0</td>\n      <td>0</td>\n      <td>0</td>\n      <td>0</td>\n      <td>0</td>\n      <td>2</td>\n      <td>0</td>\n      <td>2</td>\n      <td>2</td>\n      <td>3</td>\n      <td>0</td>\n      <td>0</td>\n      <td>0</td>\n    </tr>\n    <tr>\n      <th>1348</th>\n      <td>9</td>\n      <td>3</td>\n      <td>4.246776</td>\n      <td>0.079663</td>\n      <td>1</td>\n      <td>2</td>\n      <td>2</td>\n      <td>2</td>\n      <td>1</td>\n      <td>0</td>\n      <td>0</td>\n      <td>10</td>\n      <td>2</td>\n      <td>1</td>\n      <td>3</td>\n      <td>3</td>\n      <td>7</td>\n      <td>5</td>\n      <td>9</td>\n      <td>9</td>\n      <td>0</td>\n      <td>0</td>\n      <td>10</td>\n      <td>10</td>\n      <td>1</td>\n      <td>0.0</td>\n      <td>4</td>\n      <td>3</td>\n      <td>4</td>\n      <td>4</td>\n      <td>3</td>\n      <td>4</td>\n      <td>6</td>\n      <td>1443</td>\n      <td>1</td>\n      <td>0</td>\n      <td>39</td>\n      <td>1482</td>\n      <td>2</td>\n      <td>5</td>\n      <td>1</td>\n      <td>3</td>\n      <td>7.309212</td>\n      <td>0</td>\n      <td>0</td>\n      <td>7.309212</td>\n      <td>1</td>\n      <td>0</td>\n      <td>2</td>\n      <td>0</td>\n      <td>3</td>\n      <td>1</td>\n      <td>4</td>\n      <td>5</td>\n      <td>4</td>\n      <td>1</td>\n      <td>2</td>\n      <td>3</td>\n      <td>9.0</td>\n      <td>2</td>\n      <td>2</td>\n      <td>514</td>\n      <td>3</td>\n      <td>3</td>\n      <td>2</td>\n      <td>402</td>\n      <td>25</td>\n      <td>0</td>\n      <td>0</td>\n      <td>0</td>\n      <td>0</td>\n      <td>0</td>\n      <td>0</td>\n      <td>2</td>\n      <td>0</td>\n      <td>8</td>\n      <td>2</td>\n      <td>3</td>\n      <td>1</td>\n      <td>0</td>\n      <td>0</td>\n    </tr>\n    <tr>\n      <th>55</th>\n      <td>9</td>\n      <td>3</td>\n      <td>4.605170</td>\n      <td>0.079663</td>\n      <td>1</td>\n      <td>2</td>\n      <td>1</td>\n      <td>1</td>\n      <td>1</td>\n      <td>0</td>\n      <td>0</td>\n      <td>8</td>\n      <td>2</td>\n      <td>1</td>\n      <td>3</td>\n      <td>3</td>\n      <td>6</td>\n      <td>5</td>\n      <td>44</td>\n      <td>44</td>\n      <td>0</td>\n      <td>0</td>\n      <td>6</td>\n      <td>7</td>\n      <td>1</td>\n      <td>272.0</td>\n      <td>3</td>\n      <td>3</td>\n      <td>2</td>\n      <td>3</td>\n      <td>3</td>\n      <td>1</td>\n      <td>4</td>\n      <td>490</td>\n      <td>1</td>\n      <td>0</td>\n      <td>935</td>\n      <td>1425</td>\n      <td>2</td>\n      <td>4</td>\n      <td>1</td>\n      <td>3</td>\n      <td>7.261927</td>\n      <td>0</td>\n      <td>0</td>\n      <td>7.261927</td>\n      <td>0</td>\n      <td>0</td>\n      <td>2</td>\n      <td>0</td>\n      <td>3</td>\n      <td>1</td>\n      <td>3</td>\n      <td>7</td>\n      <td>4</td>\n      <td>1</td>\n      <td>4</td>\n      <td>3</td>\n      <td>44.0</td>\n      <td>2</td>\n      <td>2</td>\n      <td>576</td>\n      <td>3</td>\n      <td>3</td>\n      <td>2</td>\n      <td>0</td>\n      <td>0</td>\n      <td>0</td>\n      <td>1</td>\n      <td>0</td>\n      <td>0</td>\n      <td>0</td>\n      <td>0</td>\n      <td>2</td>\n      <td>0</td>\n      <td>7</td>\n      <td>2</td>\n      <td>3</td>\n      <td>0</td>\n      <td>0</td>\n      <td>0</td>\n    </tr>\n  </tbody>\n</table>\n</div>"
     },
     "execution_count": 21,
     "metadata": {},
     "output_type": "execute_result"
    }
   ],
   "source": [
    "X_train.head()"
   ]
  },
  {
   "cell_type": "markdown",
   "metadata": {},
   "source": [
    "# Conclusion\n",
    "\n",
    "Now we have all the feature engineering steps in 1 pipeline.\n",
    "\n",
    "The next steps are:\n",
    "\n",
    "- Add the scaler and model to the pipeline\n",
    "- Produce a final pipeline only with the selected features"
   ]
  },
  {
   "cell_type": "code",
   "execution_count": null,
   "metadata": {
    "ExecuteTime": {
     "start_time": "2023-12-06T17:19:01.391741100Z"
    }
   },
   "outputs": [],
   "source": []
  }
 ],
 "metadata": {
  "kernelspec": {
   "name": "python3",
   "language": "python",
   "display_name": "Python 3 (ipykernel)"
  },
  "language_info": {
   "codemirror_mode": {
    "name": "ipython",
    "version": 3
   },
   "file_extension": ".py",
   "mimetype": "text/x-python",
   "name": "python",
   "nbconvert_exporter": "python",
   "pygments_lexer": "ipython3",
   "version": "3.8.2"
  },
  "toc": {
   "base_numbering": 1,
   "nav_menu": {},
   "number_sections": true,
   "sideBar": true,
   "skip_h1_title": false,
   "title_cell": "Table of Contents",
   "title_sidebar": "Contents",
   "toc_cell": false,
   "toc_position": {
    "height": "583px",
    "left": "0px",
    "right": "1324px",
    "top": "107px",
    "width": "212px"
   },
   "toc_section_display": "block",
   "toc_window_display": true
  }
 },
 "nbformat": 4,
 "nbformat_minor": 2
}
